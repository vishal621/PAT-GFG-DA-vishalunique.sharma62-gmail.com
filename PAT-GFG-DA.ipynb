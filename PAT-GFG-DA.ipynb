{
 "cells": [
  {
   "cell_type": "code",
   "execution_count": 147,
   "id": "1b0c6f13",
   "metadata": {},
   "outputs": [],
   "source": [
    "import numpy as np\n",
    "import pandas as pd\n",
    "import seaborn as sns\n",
    "import matplotlib.pyplot as plt"
   ]
  },
  {
   "cell_type": "code",
   "execution_count": 180,
   "id": "6e1d2398",
   "metadata": {},
   "outputs": [
    {
     "data": {
      "text/html": [
       "<div>\n",
       "<style scoped>\n",
       "    .dataframe tbody tr th:only-of-type {\n",
       "        vertical-align: middle;\n",
       "    }\n",
       "\n",
       "    .dataframe tbody tr th {\n",
       "        vertical-align: top;\n",
       "    }\n",
       "\n",
       "    .dataframe thead th {\n",
       "        text-align: right;\n",
       "    }\n",
       "</style>\n",
       "<table border=\"1\" class=\"dataframe\">\n",
       "  <thead>\n",
       "    <tr style=\"text-align: right;\">\n",
       "      <th></th>\n",
       "      <th>product_name</th>\n",
       "      <th>brand_name</th>\n",
       "      <th>rating</th>\n",
       "      <th>rating_count</th>\n",
       "      <th>marked_price</th>\n",
       "      <th>discounted_price</th>\n",
       "      <th>sizes</th>\n",
       "      <th>product_link</th>\n",
       "      <th>img_link</th>\n",
       "      <th>product_tag</th>\n",
       "      <th>brand_tag</th>\n",
       "      <th>discount_amount</th>\n",
       "      <th>discount_percent</th>\n",
       "    </tr>\n",
       "  </thead>\n",
       "  <tbody>\n",
       "    <tr>\n",
       "      <th>0</th>\n",
       "      <td>Croc Textured Two Fold Wallet</td>\n",
       "      <td>Lino Perros</td>\n",
       "      <td>0.0</td>\n",
       "      <td>0</td>\n",
       "      <td>1295</td>\n",
       "      <td>828</td>\n",
       "      <td>Onesize</td>\n",
       "      <td>wallets/lino-perros/lino-perros-women-peach-co...</td>\n",
       "      <td>https://assets.myntassets.com/dpr_2,q_60,w_210...</td>\n",
       "      <td>wallets</td>\n",
       "      <td>lino-perros</td>\n",
       "      <td>467</td>\n",
       "      <td>36</td>\n",
       "    </tr>\n",
       "    <tr>\n",
       "      <th>1</th>\n",
       "      <td>Men Striped Sliders</td>\n",
       "      <td>Mast &amp; Harbour</td>\n",
       "      <td>4.0</td>\n",
       "      <td>76</td>\n",
       "      <td>1299</td>\n",
       "      <td>584</td>\n",
       "      <td>UK6,UK7,UK8,UK9,UK10,UK11</td>\n",
       "      <td>flip-flops/mast--harbour/mast--harbour-men-nav...</td>\n",
       "      <td>https://assets.myntassets.com/dpr_2,q_60,w_210...</td>\n",
       "      <td>flip-flops</td>\n",
       "      <td>mast--harbour</td>\n",
       "      <td>715</td>\n",
       "      <td>55</td>\n",
       "    </tr>\n",
       "    <tr>\n",
       "      <th>2</th>\n",
       "      <td>Printed A-line Kurta</td>\n",
       "      <td>Biba</td>\n",
       "      <td>4.3</td>\n",
       "      <td>66</td>\n",
       "      <td>1999</td>\n",
       "      <td>1599</td>\n",
       "      <td>S,M,L,XL,XXL,3XL</td>\n",
       "      <td>kurtas/biba/biba-women-off-white--black-printe...</td>\n",
       "      <td>https://assets.myntassets.com/dpr_2,q_60,w_210...</td>\n",
       "      <td>kurtas</td>\n",
       "      <td>biba</td>\n",
       "      <td>400</td>\n",
       "      <td>20</td>\n",
       "    </tr>\n",
       "    <tr>\n",
       "      <th>3</th>\n",
       "      <td>Girls Floral Printed T-shirt</td>\n",
       "      <td>Anthrilo</td>\n",
       "      <td>0.0</td>\n",
       "      <td>0</td>\n",
       "      <td>599</td>\n",
       "      <td>539</td>\n",
       "      <td>7-8Y,8-9Y,9-10Y</td>\n",
       "      <td>tshirts/anthrilo/anthrilo-girls-white-floral-p...</td>\n",
       "      <td>https://assets.myntassets.com/dpr_2,q_60,w_210...</td>\n",
       "      <td>tshirts</td>\n",
       "      <td>anthrilo</td>\n",
       "      <td>60</td>\n",
       "      <td>10</td>\n",
       "    </tr>\n",
       "    <tr>\n",
       "      <th>4</th>\n",
       "      <td>Women Printed Kurta with Skirt</td>\n",
       "      <td>FASHION DWAR</td>\n",
       "      <td>0.0</td>\n",
       "      <td>0</td>\n",
       "      <td>2899</td>\n",
       "      <td>2899</td>\n",
       "      <td>S,M,L,XL</td>\n",
       "      <td>kurta-sets/fashion-dwar/fashion-dwar-women-mul...</td>\n",
       "      <td>https://assets.myntassets.com/dpr_2,q_60,w_210...</td>\n",
       "      <td>kurta-sets</td>\n",
       "      <td>fashion-dwar</td>\n",
       "      <td>0</td>\n",
       "      <td>0</td>\n",
       "    </tr>\n",
       "  </tbody>\n",
       "</table>\n",
       "</div>"
      ],
      "text/plain": [
       "                     product_name      brand_name  rating  rating_count  \\\n",
       "0   Croc Textured Two Fold Wallet     Lino Perros     0.0             0   \n",
       "1             Men Striped Sliders  Mast & Harbour     4.0            76   \n",
       "2            Printed A-line Kurta            Biba     4.3            66   \n",
       "3    Girls Floral Printed T-shirt        Anthrilo     0.0             0   \n",
       "4  Women Printed Kurta with Skirt    FASHION DWAR     0.0             0   \n",
       "\n",
       "   marked_price  discounted_price                      sizes  \\\n",
       "0          1295               828                    Onesize   \n",
       "1          1299               584  UK6,UK7,UK8,UK9,UK10,UK11   \n",
       "2          1999              1599           S,M,L,XL,XXL,3XL   \n",
       "3           599               539            7-8Y,8-9Y,9-10Y   \n",
       "4          2899              2899                   S,M,L,XL   \n",
       "\n",
       "                                        product_link  \\\n",
       "0  wallets/lino-perros/lino-perros-women-peach-co...   \n",
       "1  flip-flops/mast--harbour/mast--harbour-men-nav...   \n",
       "2  kurtas/biba/biba-women-off-white--black-printe...   \n",
       "3  tshirts/anthrilo/anthrilo-girls-white-floral-p...   \n",
       "4  kurta-sets/fashion-dwar/fashion-dwar-women-mul...   \n",
       "\n",
       "                                            img_link product_tag  \\\n",
       "0  https://assets.myntassets.com/dpr_2,q_60,w_210...     wallets   \n",
       "1  https://assets.myntassets.com/dpr_2,q_60,w_210...  flip-flops   \n",
       "2  https://assets.myntassets.com/dpr_2,q_60,w_210...      kurtas   \n",
       "3  https://assets.myntassets.com/dpr_2,q_60,w_210...     tshirts   \n",
       "4  https://assets.myntassets.com/dpr_2,q_60,w_210...  kurta-sets   \n",
       "\n",
       "       brand_tag  discount_amount  discount_percent  \n",
       "0    lino-perros              467                36  \n",
       "1  mast--harbour              715                55  \n",
       "2           biba              400                20  \n",
       "3       anthrilo               60                10  \n",
       "4   fashion-dwar                0                 0  "
      ]
     },
     "execution_count": 180,
     "metadata": {},
     "output_type": "execute_result"
    }
   ],
   "source": [
    "df = pd.read_csv('C:/Users/vishal.sharma/Documents/New folder/data.csv')\n",
    "df.head()"
   ]
  },
  {
   "cell_type": "markdown",
   "id": "a6a3f4fb",
   "metadata": {},
   "source": [
    "1. How many unique products are there in the dataset? (5 marks)\n",
    "\n",
    "You need to find product ID of each product from product_link and then find the number of unique product ids\n",
    "\n",
    "Finding Unique Products as per their Product ID\n",
    "Removing Products with Duplicate Product ID"
   ]
  },
  {
   "cell_type": "code",
   "execution_count": 149,
   "id": "35a8b9e3",
   "metadata": {},
   "outputs": [
    {
     "name": "stdout",
     "output_type": "stream",
     "text": [
      "0         18070682\n",
      "1         12548958\n",
      "2         13446092\n",
      "3         18017006\n",
      "4         18015232\n",
      "            ...   \n",
      "168024    18245896\n",
      "168025    18713222\n",
      "168026    18713224\n",
      "168027    18054182\n",
      "168028    18511552\n",
      "Name: product_id, Length: 168029, dtype: object\n",
      "146435\n"
     ]
    }
   ],
   "source": [
    "def extract_product_id(link):\n",
    "    return link.split('/')[-2]\n",
    " \n",
    "\n",
    "\n",
    "df['product_id'] = df['product_link'].apply(extract_product_id)\n",
    "print(df['product_id']) \n",
    "\n",
    "# Count the number of unique product IDs\n",
    "num_unique_product_ids = df['product_id'].nunique()\n",
    "\n",
    "print(df['product_id'].nunique())\n"
   ]
  },
  {
   "cell_type": "code",
   "execution_count": 150,
   "id": "83da14b9",
   "metadata": {},
   "outputs": [
    {
     "name": "stdout",
     "output_type": "stream",
     "text": [
      "146435\n"
     ]
    }
   ],
   "source": [
    "print(num_unique_product_ids)"
   ]
  },
  {
   "cell_type": "code",
   "execution_count": 151,
   "id": "27de2f4a",
   "metadata": {},
   "outputs": [],
   "source": [
    "df.drop_duplicates(subset=['product_id'], keep='first', inplace=True)"
   ]
  },
  {
   "cell_type": "code",
   "execution_count": 152,
   "id": "95cedf48",
   "metadata": {},
   "outputs": [
    {
     "name": "stdout",
     "output_type": "stream",
     "text": [
      "                                             product_name      brand_name  \\\n",
      "0                           Croc Textured Two Fold Wallet     Lino Perros   \n",
      "1                                     Men Striped Sliders  Mast & Harbour   \n",
      "2                                    Printed A-line Kurta            Biba   \n",
      "3                            Girls Floral Printed T-shirt        Anthrilo   \n",
      "4                          Women Printed Kurta with Skirt    FASHION DWAR   \n",
      "...                                                   ...             ...   \n",
      "167987  Women Ethnic Motifs Printed Georgette Kaftan K...            ZOLA   \n",
      "167988            Abstract Tie and Dye Printed Night Suit          Claura   \n",
      "167989                                      Waisted Dress          Athena   \n",
      "167990        Ready to Wear Lehenga & Blouse with Dupatta            Biba   \n",
      "167991                           Solid Twill Seat Cushion             H&M   \n",
      "\n",
      "        rating  rating_count  marked_price  discounted_price  \\\n",
      "0          0.0             0          1295               828   \n",
      "1          4.0            76          1299               584   \n",
      "2          4.3            66          1999              1599   \n",
      "3          0.0             0           599               539   \n",
      "4          0.0             0          2899              2899   \n",
      "...        ...           ...           ...               ...   \n",
      "167987     0.0             0          4999              1999   \n",
      "167988     4.7            11          1999               779   \n",
      "167989     4.1             8          2499              1374   \n",
      "167990     0.0             0          2999              1499   \n",
      "167991     4.4             8           399               399   \n",
      "\n",
      "                            sizes  \\\n",
      "0                         Onesize   \n",
      "1       UK6,UK7,UK8,UK9,UK10,UK11   \n",
      "2                S,M,L,XL,XXL,3XL   \n",
      "3                 7-8Y,8-9Y,9-10Y   \n",
      "4                        S,M,L,XL   \n",
      "...                           ...   \n",
      "167987                 M,L,XL,XXL   \n",
      "167988                   S,M,L,XL   \n",
      "167989            XS,S,M,L,XL,XXL   \n",
      "167990                   3Y,5Y,7Y   \n",
      "167991                    16\"X16\"   \n",
      "\n",
      "                                             product_link  \\\n",
      "0       wallets/lino-perros/lino-perros-women-peach-co...   \n",
      "1       flip-flops/mast--harbour/mast--harbour-men-nav...   \n",
      "2       kurtas/biba/biba-women-off-white--black-printe...   \n",
      "3       tshirts/anthrilo/anthrilo-girls-white-floral-p...   \n",
      "4       kurta-sets/fashion-dwar/fashion-dwar-women-mul...   \n",
      "...                                                   ...   \n",
      "167987  kurtas/zola/zola-women-navy-blue-ethnic-motifs...   \n",
      "167988  night-suits/claura/claura-classic-white-abstra...   \n",
      "167989  dresses/athena/athena-green-waisted-dress/1522...   \n",
      "167990  lehenga-choli/biba/biba-girls-cream-coloured--...   \n",
      "167991  cushions/hm/-hm-off-white-solid-twill-seat-cus...   \n",
      "\n",
      "                                                 img_link    product_tag  \\\n",
      "0       https://assets.myntassets.com/dpr_2,q_60,w_210...        wallets   \n",
      "1       https://assets.myntassets.com/dpr_2,q_60,w_210...     flip-flops   \n",
      "2       https://assets.myntassets.com/dpr_2,q_60,w_210...         kurtas   \n",
      "3       https://assets.myntassets.com/dpr_2,q_60,w_210...        tshirts   \n",
      "4       https://assets.myntassets.com/dpr_2,q_60,w_210...     kurta-sets   \n",
      "...                                                   ...            ...   \n",
      "167987  https://assets.myntassets.com/dpr_2,q_60,w_210...         kurtas   \n",
      "167988  https://assets.myntassets.com/dpr_2,q_60,w_210...    night-suits   \n",
      "167989  https://assets.myntassets.com/dpr_2,q_60,w_210...        dresses   \n",
      "167990  https://assets.myntassets.com/dpr_2,q_60,w_210...  lehenga-choli   \n",
      "167991  https://assets.myntassets.com/dpr_2,q_60,w_210...       cushions   \n",
      "\n",
      "            brand_tag  discount_amount  discount_percent product_id  \n",
      "0         lino-perros              467                36   18070682  \n",
      "1       mast--harbour              715                55   12548958  \n",
      "2                biba              400                20   13446092  \n",
      "3            anthrilo               60                10   18017006  \n",
      "4        fashion-dwar                0                 0   18015232  \n",
      "...               ...              ...               ...        ...  \n",
      "167987           zola             3000                60   18297398  \n",
      "167988         claura             1220                61   17121206  \n",
      "167989         athena             1125                45   15227354  \n",
      "167990           biba             1500                50   14326862  \n",
      "167991             hm                0                 0   17272788  \n",
      "\n",
      "[146435 rows x 14 columns]\n"
     ]
    }
   ],
   "source": [
    "print(df)"
   ]
  },
  {
   "cell_type": "code",
   "execution_count": 153,
   "id": "69c94075",
   "metadata": {},
   "outputs": [
    {
     "data": {
      "text/html": [
       "<div>\n",
       "<style scoped>\n",
       "    .dataframe tbody tr th:only-of-type {\n",
       "        vertical-align: middle;\n",
       "    }\n",
       "\n",
       "    .dataframe tbody tr th {\n",
       "        vertical-align: top;\n",
       "    }\n",
       "\n",
       "    .dataframe thead th {\n",
       "        text-align: right;\n",
       "    }\n",
       "</style>\n",
       "<table border=\"1\" class=\"dataframe\">\n",
       "  <thead>\n",
       "    <tr style=\"text-align: right;\">\n",
       "      <th></th>\n",
       "      <th>product_name</th>\n",
       "      <th>product_id</th>\n",
       "    </tr>\n",
       "  </thead>\n",
       "  <tbody>\n",
       "    <tr>\n",
       "      <th>0</th>\n",
       "      <td>Croc Textured Two Fold Wallet</td>\n",
       "      <td>18070682</td>\n",
       "    </tr>\n",
       "    <tr>\n",
       "      <th>1</th>\n",
       "      <td>Men Striped Sliders</td>\n",
       "      <td>12548958</td>\n",
       "    </tr>\n",
       "    <tr>\n",
       "      <th>2</th>\n",
       "      <td>Printed A-line Kurta</td>\n",
       "      <td>13446092</td>\n",
       "    </tr>\n",
       "    <tr>\n",
       "      <th>3</th>\n",
       "      <td>Girls Floral Printed T-shirt</td>\n",
       "      <td>18017006</td>\n",
       "    </tr>\n",
       "    <tr>\n",
       "      <th>4</th>\n",
       "      <td>Women Printed Kurta with Skirt</td>\n",
       "      <td>18015232</td>\n",
       "    </tr>\n",
       "    <tr>\n",
       "      <th>...</th>\n",
       "      <td>...</td>\n",
       "      <td>...</td>\n",
       "    </tr>\n",
       "    <tr>\n",
       "      <th>167987</th>\n",
       "      <td>Women Ethnic Motifs Printed Georgette Kaftan K...</td>\n",
       "      <td>18297398</td>\n",
       "    </tr>\n",
       "    <tr>\n",
       "      <th>167988</th>\n",
       "      <td>Abstract Tie and Dye Printed Night Suit</td>\n",
       "      <td>17121206</td>\n",
       "    </tr>\n",
       "    <tr>\n",
       "      <th>167989</th>\n",
       "      <td>Waisted Dress</td>\n",
       "      <td>15227354</td>\n",
       "    </tr>\n",
       "    <tr>\n",
       "      <th>167990</th>\n",
       "      <td>Ready to Wear Lehenga &amp; Blouse with Dupatta</td>\n",
       "      <td>14326862</td>\n",
       "    </tr>\n",
       "    <tr>\n",
       "      <th>167991</th>\n",
       "      <td>Solid Twill Seat Cushion</td>\n",
       "      <td>17272788</td>\n",
       "    </tr>\n",
       "  </tbody>\n",
       "</table>\n",
       "<p>146435 rows × 2 columns</p>\n",
       "</div>"
      ],
      "text/plain": [
       "                                             product_name product_id\n",
       "0                           Croc Textured Two Fold Wallet   18070682\n",
       "1                                     Men Striped Sliders   12548958\n",
       "2                                    Printed A-line Kurta   13446092\n",
       "3                            Girls Floral Printed T-shirt   18017006\n",
       "4                          Women Printed Kurta with Skirt   18015232\n",
       "...                                                   ...        ...\n",
       "167987  Women Ethnic Motifs Printed Georgette Kaftan K...   18297398\n",
       "167988            Abstract Tie and Dye Printed Night Suit   17121206\n",
       "167989                                      Waisted Dress   15227354\n",
       "167990        Ready to Wear Lehenga & Blouse with Dupatta   14326862\n",
       "167991                           Solid Twill Seat Cushion   17272788\n",
       "\n",
       "[146435 rows x 2 columns]"
      ]
     },
     "execution_count": 153,
     "metadata": {},
     "output_type": "execute_result"
    }
   ],
   "source": [
    "df[['product_name','product_id']]"
   ]
  },
  {
   "cell_type": "markdown",
   "id": "a8998229",
   "metadata": {},
   "source": [
    "2. What is the average rating of the products? (2 mark)\n",
    "Try it without the product that are having rating 0\n",
    "\n",
    "\n",
    "Try it without the product that are having 0 people given any rating"
   ]
  },
  {
   "cell_type": "code",
   "execution_count": 154,
   "id": "20e419d0",
   "metadata": {},
   "outputs": [
    {
     "data": {
      "text/html": [
       "<div>\n",
       "<style scoped>\n",
       "    .dataframe tbody tr th:only-of-type {\n",
       "        vertical-align: middle;\n",
       "    }\n",
       "\n",
       "    .dataframe tbody tr th {\n",
       "        vertical-align: top;\n",
       "    }\n",
       "\n",
       "    .dataframe thead th {\n",
       "        text-align: right;\n",
       "    }\n",
       "</style>\n",
       "<table border=\"1\" class=\"dataframe\">\n",
       "  <thead>\n",
       "    <tr style=\"text-align: right;\">\n",
       "      <th></th>\n",
       "      <th>rating</th>\n",
       "      <th>rating_count</th>\n",
       "    </tr>\n",
       "  </thead>\n",
       "  <tbody>\n",
       "    <tr>\n",
       "      <th>0</th>\n",
       "      <td>0.0</td>\n",
       "      <td>0</td>\n",
       "    </tr>\n",
       "    <tr>\n",
       "      <th>1</th>\n",
       "      <td>4.0</td>\n",
       "      <td>76</td>\n",
       "    </tr>\n",
       "    <tr>\n",
       "      <th>2</th>\n",
       "      <td>4.3</td>\n",
       "      <td>66</td>\n",
       "    </tr>\n",
       "    <tr>\n",
       "      <th>3</th>\n",
       "      <td>0.0</td>\n",
       "      <td>0</td>\n",
       "    </tr>\n",
       "    <tr>\n",
       "      <th>4</th>\n",
       "      <td>0.0</td>\n",
       "      <td>0</td>\n",
       "    </tr>\n",
       "    <tr>\n",
       "      <th>...</th>\n",
       "      <td>...</td>\n",
       "      <td>...</td>\n",
       "    </tr>\n",
       "    <tr>\n",
       "      <th>167987</th>\n",
       "      <td>0.0</td>\n",
       "      <td>0</td>\n",
       "    </tr>\n",
       "    <tr>\n",
       "      <th>167988</th>\n",
       "      <td>4.7</td>\n",
       "      <td>11</td>\n",
       "    </tr>\n",
       "    <tr>\n",
       "      <th>167989</th>\n",
       "      <td>4.1</td>\n",
       "      <td>8</td>\n",
       "    </tr>\n",
       "    <tr>\n",
       "      <th>167990</th>\n",
       "      <td>0.0</td>\n",
       "      <td>0</td>\n",
       "    </tr>\n",
       "    <tr>\n",
       "      <th>167991</th>\n",
       "      <td>4.4</td>\n",
       "      <td>8</td>\n",
       "    </tr>\n",
       "  </tbody>\n",
       "</table>\n",
       "<p>146435 rows × 2 columns</p>\n",
       "</div>"
      ],
      "text/plain": [
       "        rating  rating_count\n",
       "0          0.0             0\n",
       "1          4.0            76\n",
       "2          4.3            66\n",
       "3          0.0             0\n",
       "4          0.0             0\n",
       "...        ...           ...\n",
       "167987     0.0             0\n",
       "167988     4.7            11\n",
       "167989     4.1             8\n",
       "167990     0.0             0\n",
       "167991     4.4             8\n",
       "\n",
       "[146435 rows x 2 columns]"
      ]
     },
     "execution_count": 154,
     "metadata": {},
     "output_type": "execute_result"
    }
   ],
   "source": [
    "df[['rating','rating_count']]"
   ]
  },
  {
   "cell_type": "code",
   "execution_count": 155,
   "id": "d5611761",
   "metadata": {},
   "outputs": [
    {
     "name": "stdout",
     "output_type": "stream",
     "text": [
      "average_rating without 0 rating 4.167857186750868\n"
     ]
    }
   ],
   "source": [
    "average_rating = df.loc[df['rating'] != 0,'rating'].mean()\n",
    "print('average_rating without 0 rating',average_rating)"
   ]
  },
  {
   "cell_type": "code",
   "execution_count": 156,
   "id": "0119810b",
   "metadata": {},
   "outputs": [
    {
     "name": "stdout",
     "output_type": "stream",
     "text": [
      "average_rating without 0 people 222.5561113500891\n"
     ]
    }
   ],
   "source": [
    "average_rating = df.loc[df['rating_count'] != 0,'rating_count'].mean()\n",
    "print('average_rating without 0 people',average_rating)"
   ]
  },
  {
   "cell_type": "markdown",
   "id": "9e7dd7b5",
   "metadata": {},
   "source": [
    "3. What is the average discount percentage of the products? (1 mark)"
   ]
  },
  {
   "cell_type": "code",
   "execution_count": 157,
   "id": "37515768",
   "metadata": {},
   "outputs": [
    {
     "data": {
      "text/plain": [
       "0         36\n",
       "1         55\n",
       "2         20\n",
       "3         10\n",
       "4          0\n",
       "          ..\n",
       "167987    60\n",
       "167988    61\n",
       "167989    45\n",
       "167990    50\n",
       "167991     0\n",
       "Name: discount_percent, Length: 146435, dtype: int64"
      ]
     },
     "execution_count": 157,
     "metadata": {},
     "output_type": "execute_result"
    }
   ],
   "source": [
    "df['discount_percent']"
   ]
  },
  {
   "cell_type": "code",
   "execution_count": 158,
   "id": "8844c766",
   "metadata": {},
   "outputs": [
    {
     "name": "stdout",
     "output_type": "stream",
     "text": [
      "average_discount 45.096340199776186\n"
     ]
    }
   ],
   "source": [
    "average_discount = df.loc[df['discount_percent']!=0 ,'discount_percent'].mean()\n",
    "print('average_discount',average_discount)"
   ]
  },
  {
   "cell_type": "code",
   "execution_count": null,
   "id": "dd1db37e",
   "metadata": {},
   "outputs": [],
   "source": []
  },
  {
   "cell_type": "markdown",
   "id": "53bacc97",
   "metadata": {},
   "source": [
    "4. What are the top 5 most expensive products? (2 marks)\n",
    "\n",
    "Make sure that there can be multiple brands with same name so you can take brand ID also into considration"
   ]
  },
  {
   "cell_type": "code",
   "execution_count": 159,
   "id": "4e174c0b",
   "metadata": {},
   "outputs": [
    {
     "name": "stdout",
     "output_type": "stream",
     "text": [
      "Men Automatic Motion Watch 45900\n",
      "Lord Krishna Showpiece 45599\n",
      "Ready to Wear Lehenga Blouse With Dupatta 45000\n",
      "Airwrap Complete Hair Styler 44900\n",
      "Women Aviator Sunglasses 43900\n"
     ]
    }
   ],
   "source": [
    "df_sorted = df.sort_values(by='discounted_price', ascending=False)\n",
    "\n",
    "# select the top 5 most expensive products\n",
    "top_5 = df_sorted.head(5)\n",
    "\n",
    "# print the product names and prices of the top 5 most expensive products\n",
    "for index, row in top_5.iterrows():\n",
    "    print(row['product_name'],row ['discounted_price'])"
   ]
  },
  {
   "cell_type": "code",
   "execution_count": 160,
   "id": "0d61a05e",
   "metadata": {},
   "outputs": [
    {
     "data": {
      "text/html": [
       "<div>\n",
       "<style scoped>\n",
       "    .dataframe tbody tr th:only-of-type {\n",
       "        vertical-align: middle;\n",
       "    }\n",
       "\n",
       "    .dataframe tbody tr th {\n",
       "        vertical-align: top;\n",
       "    }\n",
       "\n",
       "    .dataframe thead th {\n",
       "        text-align: right;\n",
       "    }\n",
       "</style>\n",
       "<table border=\"1\" class=\"dataframe\">\n",
       "  <thead>\n",
       "    <tr style=\"text-align: right;\">\n",
       "      <th></th>\n",
       "      <th>product_name</th>\n",
       "      <th>brand_name</th>\n",
       "      <th>rating</th>\n",
       "      <th>rating_count</th>\n",
       "      <th>marked_price</th>\n",
       "      <th>discounted_price</th>\n",
       "      <th>sizes</th>\n",
       "      <th>product_link</th>\n",
       "      <th>img_link</th>\n",
       "      <th>product_tag</th>\n",
       "      <th>brand_tag</th>\n",
       "      <th>discount_amount</th>\n",
       "      <th>discount_percent</th>\n",
       "      <th>product_id</th>\n",
       "    </tr>\n",
       "  </thead>\n",
       "  <tbody>\n",
       "    <tr>\n",
       "      <th>29599</th>\n",
       "      <td>Men Automatic Motion Watch</td>\n",
       "      <td>D1 Milano</td>\n",
       "      <td>0.0</td>\n",
       "      <td>0</td>\n",
       "      <td>51000</td>\n",
       "      <td>45900</td>\n",
       "      <td>Onesize</td>\n",
       "      <td>watches/d1-milano/d1-milano-men-black-skeleton...</td>\n",
       "      <td>https://assets.myntassets.com/dpr_2,q_60,w_210...</td>\n",
       "      <td>watches</td>\n",
       "      <td>d1-milano</td>\n",
       "      <td>5100</td>\n",
       "      <td>10</td>\n",
       "      <td>16365590</td>\n",
       "    </tr>\n",
       "    <tr>\n",
       "      <th>27039</th>\n",
       "      <td>Lord Krishna Showpiece</td>\n",
       "      <td>eCraftIndia</td>\n",
       "      <td>0.0</td>\n",
       "      <td>0</td>\n",
       "      <td>113999</td>\n",
       "      <td>45599</td>\n",
       "      <td>Onesize</td>\n",
       "      <td>showpieces/ecraftindia/ecraftindia-gold-toned-...</td>\n",
       "      <td>https://assets.myntassets.com/dpr_2,q_60,w_210...</td>\n",
       "      <td>showpieces</td>\n",
       "      <td>ecraftindia</td>\n",
       "      <td>68400</td>\n",
       "      <td>60</td>\n",
       "      <td>15890266</td>\n",
       "    </tr>\n",
       "    <tr>\n",
       "      <th>65674</th>\n",
       "      <td>Ready to Wear Lehenga Blouse With Dupatta</td>\n",
       "      <td>Masaba</td>\n",
       "      <td>0.0</td>\n",
       "      <td>0</td>\n",
       "      <td>45000</td>\n",
       "      <td>45000</td>\n",
       "      <td>XS,S,M,L,XL</td>\n",
       "      <td>lehenga-choli/masaba/masaba-lavender--green-pr...</td>\n",
       "      <td>https://assets.myntassets.com/dpr_2,q_60,w_210...</td>\n",
       "      <td>lehenga-choli</td>\n",
       "      <td>masaba</td>\n",
       "      <td>0</td>\n",
       "      <td>0</td>\n",
       "      <td>16872364</td>\n",
       "    </tr>\n",
       "    <tr>\n",
       "      <th>107767</th>\n",
       "      <td>Airwrap Complete Hair Styler</td>\n",
       "      <td>dyson</td>\n",
       "      <td>4.7</td>\n",
       "      <td>91</td>\n",
       "      <td>44900</td>\n",
       "      <td>44900</td>\n",
       "      <td>Onesize</td>\n",
       "      <td>hair-appliance/dyson/dyson-airwrap-complete-ha...</td>\n",
       "      <td>https://assets.myntassets.com/dpr_2,q_60,w_210...</td>\n",
       "      <td>hair-appliance</td>\n",
       "      <td>dyson</td>\n",
       "      <td>0</td>\n",
       "      <td>0</td>\n",
       "      <td>12107582</td>\n",
       "    </tr>\n",
       "    <tr>\n",
       "      <th>77688</th>\n",
       "      <td>Women Aviator Sunglasses</td>\n",
       "      <td>Tom Ford</td>\n",
       "      <td>0.0</td>\n",
       "      <td>0</td>\n",
       "      <td>43900</td>\n",
       "      <td>43900</td>\n",
       "      <td>L</td>\n",
       "      <td>sunglasses/tom-ford/tom-ford-women-grey-lens--...</td>\n",
       "      <td>https://assets.myntassets.com/dpr_2,q_60,w_210...</td>\n",
       "      <td>sunglasses</td>\n",
       "      <td>tom-ford</td>\n",
       "      <td>0</td>\n",
       "      <td>0</td>\n",
       "      <td>15445218</td>\n",
       "    </tr>\n",
       "  </tbody>\n",
       "</table>\n",
       "</div>"
      ],
      "text/plain": [
       "                                     product_name   brand_name  rating  \\\n",
       "29599                  Men Automatic Motion Watch    D1 Milano     0.0   \n",
       "27039                      Lord Krishna Showpiece  eCraftIndia     0.0   \n",
       "65674   Ready to Wear Lehenga Blouse With Dupatta       Masaba     0.0   \n",
       "107767               Airwrap Complete Hair Styler        dyson     4.7   \n",
       "77688                    Women Aviator Sunglasses     Tom Ford     0.0   \n",
       "\n",
       "        rating_count  marked_price  discounted_price        sizes  \\\n",
       "29599              0         51000             45900      Onesize   \n",
       "27039              0        113999             45599      Onesize   \n",
       "65674              0         45000             45000  XS,S,M,L,XL   \n",
       "107767            91         44900             44900      Onesize   \n",
       "77688              0         43900             43900            L   \n",
       "\n",
       "                                             product_link  \\\n",
       "29599   watches/d1-milano/d1-milano-men-black-skeleton...   \n",
       "27039   showpieces/ecraftindia/ecraftindia-gold-toned-...   \n",
       "65674   lehenga-choli/masaba/masaba-lavender--green-pr...   \n",
       "107767  hair-appliance/dyson/dyson-airwrap-complete-ha...   \n",
       "77688   sunglasses/tom-ford/tom-ford-women-grey-lens--...   \n",
       "\n",
       "                                                 img_link     product_tag  \\\n",
       "29599   https://assets.myntassets.com/dpr_2,q_60,w_210...         watches   \n",
       "27039   https://assets.myntassets.com/dpr_2,q_60,w_210...      showpieces   \n",
       "65674   https://assets.myntassets.com/dpr_2,q_60,w_210...   lehenga-choli   \n",
       "107767  https://assets.myntassets.com/dpr_2,q_60,w_210...  hair-appliance   \n",
       "77688   https://assets.myntassets.com/dpr_2,q_60,w_210...      sunglasses   \n",
       "\n",
       "          brand_tag  discount_amount  discount_percent product_id  \n",
       "29599     d1-milano             5100                10   16365590  \n",
       "27039   ecraftindia            68400                60   15890266  \n",
       "65674        masaba                0                 0   16872364  \n",
       "107767        dyson                0                 0   12107582  \n",
       "77688      tom-ford                0                 0   15445218  "
      ]
     },
     "execution_count": 160,
     "metadata": {},
     "output_type": "execute_result"
    }
   ],
   "source": [
    "df=df.sort_values('discounted_price',ascending=False)\n",
    "df.head(5)"
   ]
  },
  {
   "cell_type": "code",
   "execution_count": null,
   "id": "e9ad70db",
   "metadata": {},
   "outputs": [],
   "source": []
  },
  {
   "cell_type": "code",
   "execution_count": null,
   "id": "3078d6fb",
   "metadata": {},
   "outputs": [],
   "source": []
  },
  {
   "cell_type": "markdown",
   "id": "7b48207d",
   "metadata": {},
   "source": [
    "5. What are the top 10 brands by the number of products in the dataset? (2 mark)"
   ]
  },
  {
   "cell_type": "code",
   "execution_count": 161,
   "id": "1a80722e",
   "metadata": {},
   "outputs": [
    {
     "name": "stdout",
     "output_type": "stream",
     "text": [
      "brand_name\n",
      "Roadster                 4557\n",
      "Mast & Harbour           2397\n",
      "DressBerry               2073\n",
      "H&M                      1998\n",
      "Anouk                    1784\n",
      "max                      1772\n",
      "HRX by Hrithik Roshan    1734\n",
      "Puma                     1667\n",
      "MANGO                    1625\n",
      "HERE&NOW                 1612\n",
      "Name: product_name, dtype: int64\n"
     ]
    }
   ],
   "source": [
    "brand_counts = df.groupby('brand_name')['product_name'].count()\n",
    "sorted_brands = brand_counts.sort_values(ascending=False)\n",
    "top_10 = sorted_brands.head(10)\n",
    "print(top_10)"
   ]
  },
  {
   "cell_type": "code",
   "execution_count": null,
   "id": "aa8dc892",
   "metadata": {},
   "outputs": [],
   "source": []
  },
  {
   "cell_type": "markdown",
   "id": "6921133f",
   "metadata": {},
   "source": [
    "6. List top 5 brands with maxiumum average rating of products? (2 marks)\n",
    "\n",
    "Neglect the products which are not reviewed by any person"
   ]
  },
  {
   "cell_type": "code",
   "execution_count": 162,
   "id": "069e2ef0",
   "metadata": {},
   "outputs": [
    {
     "name": "stdout",
     "output_type": "stream",
     "text": [
      "brand_tag\n",
      "1-stop-fashion               5.0\n",
      "pro-ethic-style-developer    5.0\n",
      "beauty-glazed                5.0\n",
      "mildcares                    5.0\n",
      "joseph-joseph                5.0\n",
      "Name: rating, dtype: float64\n"
     ]
    }
   ],
   "source": [
    "\n",
    "df = df.dropna()\n",
    "\n",
    "# group the dataframe by brand and calculate the mean rating per brand\n",
    "brand_ratings = df.groupby('brand_tag')['rating'].mean()\n",
    "\n",
    "# sort the brands by mean rating in descending order\n",
    "sorted_brands = brand_ratings.sort_values(ascending=False)\n",
    "\n",
    "# select the top 5 brands by mean rating\n",
    "top_5 = sorted_brands.head(5)\n",
    "\n",
    "# print the top 5 brands and their corresponding mean ratings\n",
    "print(top_5)"
   ]
  },
  {
   "cell_type": "code",
   "execution_count": null,
   "id": "140bb454",
   "metadata": {},
   "outputs": [],
   "source": []
  },
  {
   "cell_type": "code",
   "execution_count": null,
   "id": "9f38f032",
   "metadata": {},
   "outputs": [],
   "source": []
  },
  {
   "cell_type": "markdown",
   "id": "05c1727b",
   "metadata": {},
   "source": [
    "7. Plot a histogram of the distribution of ratings of following brand. (3 marks)\n",
    "\n",
    "H&M\n",
    "\n",
    "max\n",
    "\n",
    "Puma\n",
    "\n",
    "MANGO\n",
    "\n",
    "Neglect the products which are not reviewed by any person"
   ]
  },
  {
   "cell_type": "code",
   "execution_count": 163,
   "id": "96229dce",
   "metadata": {},
   "outputs": [
    {
     "data": {
      "image/png": "[encoded data removed]",
      "text/plain": [
       "<Figure size 640x480 with 1 Axes>"
      ]
     },
     "metadata": {},
     "output_type": "display_data"
    }
   ],
   "source": [
    "brands_to_plot = ['H&M', 'Max', 'Puma', 'MANGO']\n",
    "\n",
    "# subset the dataframe to include only the selected brands\n",
    "df_to_plot = df[df['brand_name'].isin(brands_to_plot)]\n",
    "\n",
    "# plot a histogram of the distribution of ratings for each brand\n",
    "for brand in brands_to_plot:\n",
    "    brand_ratings = df_to_plot[df_to_plot['brand_name'] == brand]['rating']\n",
    "    plt.hist(brand_ratings, bins=5, alpha=0.5, label=brand)\n",
    "\n",
    "# add labels and legend to the plot\n",
    "plt.title('Distribution of Rating by Brand')\n",
    "plt.xlabel('Rating')\n",
    "plt.ylabel('Count')\n",
    "plt.legend()\n",
    "\n",
    "# display the plot\n",
    "plt.show()"
   ]
  },
  {
   "cell_type": "code",
   "execution_count": null,
   "id": "e0d3010a",
   "metadata": {},
   "outputs": [],
   "source": []
  },
  {
   "cell_type": "code",
   "execution_count": null,
   "id": "34dbe515",
   "metadata": {},
   "outputs": [],
   "source": []
  },
  {
   "cell_type": "markdown",
   "id": "4463e52d",
   "metadata": {},
   "source": [
    "8. What is the distribution of discounts by brand for specific brands mentioned below?(2 marks)\n",
    "\n",
    "H&M\n",
    "\n",
    "max\n",
    "\n",
    "Puma\n",
    "\n",
    "MANGO\n",
    "\n",
    "Neglect the products which are not reviewed by any person. Neglect the products which are not on any discount."
   ]
  },
  {
   "cell_type": "code",
   "execution_count": 164,
   "id": "30cde8c0",
   "metadata": {},
   "outputs": [
    {
     "data": {
      "image/png": "[encoded data removed]",
      "text/plain": [
       "<Figure size 640x480 with 1 Axes>"
      ]
     },
     "metadata": {},
     "output_type": "display_data"
    }
   ],
   "source": [
    "brands_to_plot = ['H&M', 'Max', 'Puma', 'MANGO']\n",
    "\n",
    "# subset the dataframe to include only the selected brands and products with a discount\n",
    "df_to_plot = df[(df['brand_name'].isin(brands_to_plot)) & (df['discount_amount'] > 0)]\n",
    "\n",
    "# create a box plot of the distribution of discounts by brand\n",
    "plt.boxplot([df_to_plot[df_to_plot['brand_name'] == brand]['discount_amount'] for brand in brands_to_plot])\n",
    "\n",
    "# add labels and legend to the plot\n",
    "plt.title('Distribution of Discounts by Brand')\n",
    "plt.xlabel('Brand')\n",
    "plt.ylabel('Discount (%)')\n",
    "plt.xticks([1, 2, 3, 4], brands_to_plot)\n",
    "\n",
    "# display the plot\n",
    "plt.show()"
   ]
  },
  {
   "cell_type": "code",
   "execution_count": null,
   "id": "d673a458",
   "metadata": {},
   "outputs": [],
   "source": []
  },
  {
   "cell_type": "code",
   "execution_count": null,
   "id": "8d6b7025",
   "metadata": {},
   "outputs": [],
   "source": []
  },
  {
   "cell_type": "code",
   "execution_count": null,
   "id": "46dde740",
   "metadata": {},
   "outputs": [],
   "source": []
  },
  {
   "cell_type": "markdown",
   "id": "53fd9395",
   "metadata": {},
   "source": [
    "9. Is there any trend or pattern you can find between discount percent and rating of the product? (3 marks)"
   ]
  },
  {
   "cell_type": "code",
   "execution_count": 165,
   "id": "6f02c046",
   "metadata": {},
   "outputs": [
    {
     "data": {
      "image/png": "[encoded data removed]",
      "text/plain": [
       "<Figure size 640x480 with 1 Axes>"
      ]
     },
     "metadata": {},
     "output_type": "display_data"
    }
   ],
   "source": [
    "plt.scatter(df['discount_percent'], df['rating'])\n",
    "\n",
    "# add labels and legend to the plot\n",
    "plt.title('Discount vs. Rating')\n",
    "plt.xlabel('Discount (%)')\n",
    "plt.ylabel('Rating')\n",
    "\n",
    "# display the plot\n",
    "plt.show()"
   ]
  },
  {
   "cell_type": "code",
   "execution_count": null,
   "id": "f635c346",
   "metadata": {},
   "outputs": [],
   "source": []
  },
  {
   "cell_type": "markdown",
   "id": "3b8858c0",
   "metadata": {},
   "source": [
    "10. What are the top 10 most popular tags in the dataset? (2 marks)"
   ]
  },
  {
   "cell_type": "code",
   "execution_count": 166,
   "id": "dc94a2bd",
   "metadata": {},
   "outputs": [
    {
     "name": "stdout",
     "output_type": "stream",
     "text": [
      "roadster\n",
      "mast--harbour\n",
      "dressberry\n",
      "hm\n",
      "anouk\n",
      "max\n",
      "hrx-by-hrithik-roshan\n",
      "puma\n",
      "mango\n",
      "herenow\n"
     ]
    }
   ],
   "source": [
    "\n",
    "import pandas as pd\n",
    "from collections import Counter\n",
    "\n",
    "\n",
    "# create a list of all tags in the dataset\n",
    "all_tags = []\n",
    "for tags in df['brand_tag']:\n",
    "    all_tags += tags.split(',')\n",
    "\n",
    "# count the frequency of each tag using a Counter\n",
    "tag_counts = Counter(all_tags)\n",
    "\n",
    "# sort the tags by their frequency in descending order\n",
    "sorted_tags = sorted(tag_counts.items(), key=lambda x: x[1], reverse=True)\n",
    "\n",
    "# extract the top 10 most frequent tags from the sorted list\n",
    "top_tags = sorted_tags[:10]\n",
    "\n",
    "# print the top 10 most frequent tags\n",
    "for tag, count in top_tags:\n",
    "    print(tag)"
   ]
  },
  {
   "cell_type": "code",
   "execution_count": null,
   "id": "eafc8496",
   "metadata": {},
   "outputs": [],
   "source": []
  },
  {
   "cell_type": "code",
   "execution_count": 171,
   "id": "2b4ebb84",
   "metadata": {},
   "outputs": [],
   "source": [
    "Rating=df.loc[df['rating']!=0]\n",
    "Rating_view=df.loc[df['rating_count']!=0]"
   ]
  },
  {
   "cell_type": "markdown",
   "id": "6808d813",
   "metadata": {},
   "source": [
    "11. Are there any relations between the rating and number of people who rated the products? (4 marks)\n",
    "\n",
    "Neglect the products that are not reviewed by any person\n",
    "\n",
    "Neglect the products that are having zero rating"
   ]
  },
  {
   "cell_type": "code",
   "execution_count": 179,
   "id": "5f29e88d",
   "metadata": {},
   "outputs": [
    {
     "data": {
      "image/png": "[encoded data removed]",
      "text/plain": [
       "<Figure size 640x480 with 1 Axes>"
      ]
     },
     "metadata": {},
     "output_type": "display_data"
    }
   ],
   "source": [
    "\n",
    "\n",
    "plt.scatter(df['rating_count'], df['rating'])\n",
    "\n",
    "# add labels and legend to the plot\n",
    "plt.title('Number of people who rated the products vs. Rating')\n",
    "plt.xlabel('Number of people who rated the products')\n",
    "plt.ylabel('Rating')\n",
    "\n",
    "# display the plot\n",
    "plt.show()"
   ]
  },
  {
   "cell_type": "code",
   "execution_count": null,
   "id": "35291e91",
   "metadata": {},
   "outputs": [],
   "source": []
  },
  {
   "cell_type": "markdown",
   "id": "2bf9f411",
   "metadata": {},
   "source": [
    "12. What are the top 10 Most Expensive brands? (3 marks)\n",
    "\n",
    "Use marked price as the reference to find the most expensive brand"
   ]
  },
  {
   "cell_type": "code",
   "execution_count": 181,
   "id": "0284a944",
   "metadata": {},
   "outputs": [
    {
     "name": "stdout",
     "output_type": "stream",
     "text": [
      "brand_name\n",
      "EARNSHAW                 47603.846154\n",
      "Victorinox               44000.000000\n",
      "MOSCHINO COUTURE         40000.000000\n",
      "dyson                    39233.333333\n",
      "Tom Ford                 38800.000000\n",
      "Valuchi                  38050.000000\n",
      "Bottega Veneta           34490.000000\n",
      "Versace Jeans Couture    33125.000000\n",
      "TISSOT                   31928.571429\n",
      "DUCATI CORSE             31665.666667\n",
      "Name: marked_price, dtype: float64\n"
     ]
    }
   ],
   "source": [
    "brand_prices = df.groupby('brand_name')['marked_price'].mean()\n",
    "\n",
    "# Sort the brands based on their mean marked price in descending order\n",
    "sorted_brands = brand_prices.sort_values(ascending=False)\n",
    "\n",
    "# Select the top 10 brands based on their mean marked price\n",
    "top_10_brands = sorted_brands[:10]\n",
    "\n",
    "# Print the top 10 most expensive brands\n",
    "print(top_10_brands)"
   ]
  },
  {
   "cell_type": "code",
   "execution_count": null,
   "id": "f03c46a6",
   "metadata": {},
   "outputs": [],
   "source": []
  },
  {
   "cell_type": "markdown",
   "id": "7aa2ca25",
   "metadata": {},
   "source": [
    "13. What are the top 10 Most Expensive Product Category? (4 marks)\n",
    "\n",
    "Use marked price as the reference to find the most expensive brand"
   ]
  },
  {
   "cell_type": "code",
   "execution_count": 183,
   "id": "3a8a328e",
   "metadata": {},
   "outputs": [
    {
     "name": "stdout",
     "output_type": "stream",
     "text": [
      "product_name\n",
      "Lord Krishna Showpiece                                              113999.000000\n",
      "Durga Maa On Lion Showpiece                                          71999.000000\n",
      "Men Stainless Steel Straps Multi Function Automatic Motion Watch     57200.000000\n",
      "Men Stainless Steel Straps Automatic Motion Watch                    46077.222222\n",
      "Men Leather Straps Multi Function Automatic Motion Watch             45825.000000\n",
      "Airwrap Complete Hair Styler                                         44900.000000\n",
      "Men Brass Dial & Automatic Watch                                     44500.000000\n",
      "Mid-Rise Stretchable Jeans                                           41000.000000\n",
      "Printed Carpets                                                      40350.000000\n",
      "Men Regular Fit Cotton Jeans                                         39000.000000\n",
      "Name: marked_price, dtype: float64\n"
     ]
    }
   ],
   "source": [
    "category_prices = df.groupby('product_name')['marked_price'].mean()\n",
    "\n",
    "# Sort the categories based on their mean marked price in descending order\n",
    "sorted_categories = category_prices.sort_values(ascending=False)\n",
    "\n",
    "# Select the top 10 categories based on their mean marked price\n",
    "top_10_categories = sorted_categories[:10]\n",
    "\n",
    "# Print the top 10 most expensive product categories\n",
    "print(top_10_categories)"
   ]
  },
  {
   "cell_type": "code",
   "execution_count": null,
   "id": "82c3b086",
   "metadata": {},
   "outputs": [],
   "source": []
  },
  {
   "cell_type": "markdown",
   "id": "b58b58c2",
   "metadata": {},
   "source": [
    "14. Analyse the Violen Plot of watches of following brands mentioned below ? (5 marks)\n",
    "\n",
    "Take Marked Price for Reference\n",
    "Take product_tag as watches\n",
    "Take brand_tag as tommy-hilfiger, daniel-wellington, armani-exchange, emporio-armani, earnshaw, tissot\n",
    "Make sure to write your inference based on the violen plot of following watch brands price"
   ]
  },
  {
   "cell_type": "code",
   "execution_count": 184,
   "id": "bf69312c",
   "metadata": {},
   "outputs": [
    {
     "data": {
      "text/plain": [
       "<AxesSubplot:xlabel='brand_tag', ylabel='marked_price'>"
      ]
     },
     "execution_count": 184,
     "metadata": {},
     "output_type": "execute_result"
    },
    {
     "data": {
      "image/png": "[encoded data removed]",
      "text/plain": [
       "<Figure size 640x480 with 1 Axes>"
      ]
     },
     "metadata": {},
     "output_type": "display_data"
    }
   ],
   "source": [
    "watch_brands = [\"tommy-hilfiger\", \"daniel-wellington\", \"armani-exchange\", \"emporio-armani\", \"earnshaw\", \"tissot\"]\n",
    "watch_data = df.loc[(df[\"product_tag\"] == \"watches\") & (df[\"brand_tag\"].isin(watch_brands)), [\"brand_tag\", \"marked_price\"]]\n",
    "\n",
    "# Create a Violin plot to visualize the distribution of marked_price for each of these brands\n",
    "sns.violinplot(x=\"brand_tag\", y=\"marked_price\", data=watch_data)\n"
   ]
  },
  {
   "cell_type": "code",
   "execution_count": null,
   "id": "b6e3c83c",
   "metadata": {},
   "outputs": [],
   "source": []
  },
  {
   "cell_type": "markdown",
   "id": "ec737e90",
   "metadata": {},
   "source": [
    "15. List top 5 brands which are having most wide range or products\n",
    "\n",
    "Use marked price as the reference"
   ]
  },
  {
   "cell_type": "code",
   "execution_count": 189,
   "id": "ca1f259b",
   "metadata": {},
   "outputs": [
    {
     "name": "stdout",
     "output_type": "stream",
     "text": [
      "brand_tag\n",
      "ecraftindia     113400\n",
      "ddecor           39651\n",
      "calvin-klein     39360\n",
      "d1-milano        38500\n",
      "masaba           37001\n",
      "Name: marked_price, dtype: int64\n"
     ]
    }
   ],
   "source": [
    "brand_ranges = df.groupby('brand_tag')['marked_price'].apply(lambda x: x.max() - x.min())\n",
    "\n",
    "# Sort the brand_ranges in descending order and take the top 5 brands\n",
    "top_brands = brand_ranges.sort_values(ascending=False).head(5)\n",
    "\n",
    "# Print the top 5 brands with their range of marked_price\n",
    "print(top_brands)"
   ]
  },
  {
   "cell_type": "code",
   "execution_count": null,
   "id": "9322ae3a",
   "metadata": {},
   "outputs": [],
   "source": []
  },
  {
   "cell_type": "code",
   "execution_count": null,
   "id": "f36f8de3",
   "metadata": {},
   "outputs": [],
   "source": []
  }
 ],
 "metadata": {
  "kernelspec": {
   "display_name": "Python 3 (ipykernel)",
   "language": "python",
   "name": "python3"
  },
  "language_info": {
   "codemirror_mode": {
    "name": "ipython",
    "version": 3
   },
   "file_extension": ".py",
   "mimetype": "text/x-python",
   "name": "python",
   "nbconvert_exporter": "python",
   "pygments_lexer": "ipython3",
   "version": "3.9.13"
  }
 },
 "nbformat": 4,
 "nbformat_minor": 5
}
